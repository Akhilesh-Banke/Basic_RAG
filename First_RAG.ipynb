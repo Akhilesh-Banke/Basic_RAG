{
  "nbformat": 4,
  "nbformat_minor": 0,
  "metadata": {
    "colab": {
      "provenance": [],
      "toc_visible": true,
      "gpuType": "T4",
      "authorship_tag": "ABX9TyOtboUYCGMitiZy1NePge0f",
      "include_colab_link": true
    },
    "kernelspec": {
      "name": "python3",
      "display_name": "Python 3"
    },
    "language_info": {
      "name": "python"
    },
    "accelerator": "GPU"
  },
  "cells": [
    {
      "cell_type": "markdown",
      "metadata": {
        "id": "view-in-github",
        "colab_type": "text"
      },
      "source": [
        "<a href=\"https://colab.research.google.com/github/Akhilesh-Banke/Basic_RAG/blob/main/First_RAG.ipynb\" target=\"_parent\"><img src=\"https://colab.research.google.com/assets/colab-badge.svg\" alt=\"Open In Colab\"/></a>"
      ]
    },
    {
      "cell_type": "markdown",
      "source": [
        "#  My First RAG System: From Scratch\n",
        "> A hands-on Retrieval Augmented Generation (RAG) project built using only open-source tools.\n",
        "\n",
        "---\n",
        "\n",
        "### Overview\n",
        "In this notebook, I'll build my own **RAG (Retrieval Augmented Generation)** system step-by-step.\n",
        "\n",
        " Goal: Make LLMs stop hallucinating by grounding them in real data — my data!\n",
        "\n",
        "I'll cover:\n",
        "1.  Loading custom knowledge\n",
        "2.  Chunking it smartly\n",
        "3.  Embedding with Sentence Transformers\n",
        "4.  Storing & retrieving with FAISS\n",
        "5.  Generating grounded answers\n",
        "\n",
        "---\n",
        "\n",
        "**Libraries used:**\n",
        "transformers – for our LLM\n",
        "sentence-transformers – for embeddings\n",
        "faiss-cpu – for vector search\n",
        "langchain – for text splitting"
      ],
      "metadata": {
        "id": "uG-Zw9D5pxvH"
      }
    },
    {
      "cell_type": "code",
      "execution_count": 1,
      "metadata": {
        "id": "LHxNZYIW_PY8",
        "colab": {
          "base_uri": "https://localhost:8080/"
        },
        "outputId": "0eedb45b-549a-43f8-fc38-97b5fee9fed9"
      },
      "outputs": [
        {
          "output_type": "stream",
          "name": "stdout",
          "text": [
            "\u001b[2K   \u001b[90m━━━━━━━━━━━━━━━━━━━━━━━━━━━━━━━━━━━━━━━━\u001b[0m \u001b[32m31.4/31.4 MB\u001b[0m \u001b[31m66.2 MB/s\u001b[0m eta \u001b[36m0:00:00\u001b[0m\n",
            "\u001b[?25h"
          ]
        }
      ],
      "source": [
        "!pip install -q transformers sentence-transformers faiss-cpu langchain torch"
      ]
    },
    {
      "cell_type": "markdown",
      "source": [
        "### **Dependencies**"
      ],
      "metadata": {
        "id": "JETQi12MqkVx"
      }
    },
    {
      "cell_type": "code",
      "source": [
        "import os\n",
        "import numpy as np\n",
        "import faiss\n",
        "from sentence_transformers import SentenceTransformer\n",
        "from transformers import pipeline\n",
        "from langchain.text_splitter import RecursiveCharacterTextSplitter"
      ],
      "metadata": {
        "id": "juycavVYqR3w"
      },
      "execution_count": 2,
      "outputs": []
    },
    {
      "cell_type": "code",
      "source": [
        "# Load our document\n",
        "with open(\"/content/my_knwledge.txt\") as f:\n",
        "    knowledge_text = f.read()\n",
        "\n",
        "print(\"✅ Knowledge base saved.\")\n"
      ],
      "metadata": {
        "colab": {
          "base_uri": "https://localhost:8080/"
        },
        "id": "yCqOXiUmqcZ1",
        "outputId": "4a6ae8bb-b793-4566-92df-f7c2252b7d5b"
      },
      "execution_count": 3,
      "outputs": [
        {
          "output_type": "stream",
          "name": "stdout",
          "text": [
            "✅ Knowledge base saved.\n"
          ]
        }
      ]
    },
    {
      "cell_type": "code",
      "source": [],
      "metadata": {
        "id": "kuSOBIRJuc0K"
      },
      "execution_count": null,
      "outputs": []
    }
  ]
}